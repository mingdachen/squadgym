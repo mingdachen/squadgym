{
 "cells": [
  {
   "cell_type": "code",
   "execution_count": 1,
   "metadata": {
    "collapsed": true
   },
   "outputs": [],
   "source": [
    "import json\n",
    "from collections import defaultdict\n",
    "\n",
    "from squadgym.utils.preprocessing import preprocess_text"
   ]
  },
  {
   "cell_type": "code",
   "execution_count": 76,
   "metadata": {
    "collapsed": true
   },
   "outputs": [],
   "source": [
    "def squad_reader(squad_data_filename):\n",
    "    with open(squad_data_filename) as in_file:\n",
    "        return json.load(in_file)\n",
    "\n",
    "\n",
    "def generate_env_data(squad_data):\n",
    "    env_data = defaultdict(lambda: {\"context\": [], \"questions\": [], \"answers\": []})\n",
    "\n",
    "    for entity_data in squad_data[\"data\"]:\n",
    "        entity_title = entity_data[\"title\"]\n",
    "\n",
    "        for paragraph in entity_data[\"paragraphs\"]:\n",
    "            env_data[entity_title][\"context\"].append(preprocess_text(paragraph[\"context\"]))\n",
    "            questions = []\n",
    "            answers = []\n",
    "            for qas in paragraph[\"qas\"]:\n",
    "                question_tokens = preprocess_text(qas[\"question\"])\n",
    "                answers_tokens = []\n",
    "                for ans in qas[\"answers\"]:\n",
    "                    answer_tokens = preprocess_text(ans[\"text\"])\n",
    "                    answers_tokens.append(answer_tokens)\n",
    "                questions.append(question_tokens)\n",
    "                answers.append(answers_tokens)\n",
    "            env_data[entity_title][\"questions\"].append(questions)\n",
    "            env_data[entity_title][\"answers\"].append(answers)\n",
    "            \n",
    "    return env_data"
   ]
  },
  {
   "cell_type": "code",
   "execution_count": 77,
   "metadata": {
    "collapsed": false
   },
   "outputs": [],
   "source": [
    "squad_data = squad_reader(\"/home-nfs/mingdachen/data/squad/dev-v1.1.json\")\n",
    "data = generate_env_data(squad_data)"
   ]
  },
  {
   "cell_type": "code",
   "execution_count": 65,
   "metadata": {
    "collapsed": false
   },
   "outputs": [
    {
     "data": {
      "text/plain": [
       "\"oxygen is a chemical element with symbol o and atomic number 8 . it is a member of the chalcogen group on the periodic table and is a highly reactive nonmetal and oxidizing agent that readily forms compounds ( notably oxides ) with most elements . by mass , oxygen is the third-most abundant element in the universe , after hydrogen and helium . at standard temperature and pressure , two atoms of the element bind to form dioxygen , a colorless and odorless diatomic gas with the formula o 2 . diatomic oxygen gas constitutes 20.8 % of the earth 's atmosphere . however , monitoring of atmospheric oxygen levels show a global downward trend , because of fossil-fuel burning . oxygen is the most abundant element by mass in the earth 's crust as part of oxide compounds such as silicon dioxide , making up almost half of the crust 's mass .\""
      ]
     },
     "execution_count": 65,
     "metadata": {},
     "output_type": "execute_result"
    }
   ],
   "source": [
    "' '.join(data[\"Oxygen\"][\"context\"][0])"
   ]
  },
  {
   "cell_type": "code",
   "execution_count": 78,
   "metadata": {
    "collapsed": false
   },
   "outputs": [
    {
     "data": {
      "text/plain": [
       "43"
      ]
     },
     "execution_count": 78,
     "metadata": {},
     "output_type": "execute_result"
    }
   ],
   "source": [
    "len(data[\"Oxygen\"][\"questions\"])"
   ]
  },
  {
   "cell_type": "code",
   "execution_count": 79,
   "metadata": {
    "collapsed": false
   },
   "outputs": [
    {
     "data": {
      "text/plain": [
       "43"
      ]
     },
     "execution_count": 79,
     "metadata": {},
     "output_type": "execute_result"
    }
   ],
   "source": [
    "len(data[\"Oxygen\"][\"context\"])"
   ]
  },
  {
   "cell_type": "code",
   "execution_count": 56,
   "metadata": {
    "collapsed": false
   },
   "outputs": [
    {
     "data": {
      "text/plain": [
       "{'context': 'Super Bowl 50 was an American football game to determine the champion of the National Football League (NFL) for the 2015 season. The American Football Conference (AFC) champion Denver Broncos defeated the National Football Conference (NFC) champion Carolina Panthers 24–10 to earn their third Super Bowl title. The game was played on February 7, 2016, at Levi\\'s Stadium in the San Francisco Bay Area at Santa Clara, California. As this was the 50th Super Bowl, the league emphasized the \"golden anniversary\" with various gold-themed initiatives, as well as temporarily suspending the tradition of naming each Super Bowl game with Roman numerals (under which the game would have been known as \"Super Bowl L\"), so that the logo could prominently feature the Arabic numerals 50.',\n",
       " 'qas': [{'answers': [{'answer_start': 177, 'text': 'Denver Broncos'},\n",
       "    {'answer_start': 177, 'text': 'Denver Broncos'},\n",
       "    {'answer_start': 177, 'text': 'Denver Broncos'}],\n",
       "   'id': '56be4db0acb8001400a502ec',\n",
       "   'question': 'Which NFL team represented the AFC at Super Bowl 50?'},\n",
       "  {'answers': [{'answer_start': 249, 'text': 'Carolina Panthers'},\n",
       "    {'answer_start': 249, 'text': 'Carolina Panthers'},\n",
       "    {'answer_start': 249, 'text': 'Carolina Panthers'}],\n",
       "   'id': '56be4db0acb8001400a502ed',\n",
       "   'question': 'Which NFL team represented the NFC at Super Bowl 50?'},\n",
       "  {'answers': [{'answer_start': 403, 'text': 'Santa Clara, California'},\n",
       "    {'answer_start': 355, 'text': \"Levi's Stadium\"},\n",
       "    {'answer_start': 355,\n",
       "     'text': \"Levi's Stadium in the San Francisco Bay Area at Santa Clara, California.\"}],\n",
       "   'id': '56be4db0acb8001400a502ee',\n",
       "   'question': 'Where did Super Bowl 50 take place?'},\n",
       "  {'answers': [{'answer_start': 177, 'text': 'Denver Broncos'},\n",
       "    {'answer_start': 177, 'text': 'Denver Broncos'},\n",
       "    {'answer_start': 177, 'text': 'Denver Broncos'}],\n",
       "   'id': '56be4db0acb8001400a502ef',\n",
       "   'question': 'Which NFL team won Super Bowl 50?'},\n",
       "  {'answers': [{'answer_start': 488, 'text': 'gold'},\n",
       "    {'answer_start': 488, 'text': 'gold'},\n",
       "    {'answer_start': 521, 'text': 'gold'}],\n",
       "   'id': '56be4db0acb8001400a502f0',\n",
       "   'question': 'What color was used to emphasize the 50th anniversary of the Super Bowl?'},\n",
       "  {'answers': [{'answer_start': 487, 'text': '\"golden anniversary\"'},\n",
       "    {'answer_start': 521, 'text': 'gold-themed'},\n",
       "    {'answer_start': 487, 'text': '\"golden anniversary'}],\n",
       "   'id': '56be8e613aeaaa14008c90d1',\n",
       "   'question': 'What was the theme of Super Bowl 50?'},\n",
       "  {'answers': [{'answer_start': 334, 'text': 'February 7, 2016'},\n",
       "    {'answer_start': 334, 'text': 'February 7'},\n",
       "    {'answer_start': 334, 'text': 'February 7, 2016'}],\n",
       "   'id': '56be8e613aeaaa14008c90d2',\n",
       "   'question': 'What day was the game played on?'},\n",
       "  {'answers': [{'answer_start': 133, 'text': 'American Football Conference'},\n",
       "    {'answer_start': 133, 'text': 'American Football Conference'},\n",
       "    {'answer_start': 133, 'text': 'American Football Conference'}],\n",
       "   'id': '56be8e613aeaaa14008c90d3',\n",
       "   'question': 'What is the AFC short for?'},\n",
       "  {'answers': [{'answer_start': 487, 'text': '\"golden anniversary\"'},\n",
       "    {'answer_start': 521, 'text': 'gold-themed'},\n",
       "    {'answer_start': 521, 'text': 'gold'}],\n",
       "   'id': '56bea9923aeaaa14008c91b9',\n",
       "   'question': 'What was the theme of Super Bowl 50?'},\n",
       "  {'answers': [{'answer_start': 133, 'text': 'American Football Conference'},\n",
       "    {'answer_start': 133, 'text': 'American Football Conference'},\n",
       "    {'answer_start': 133, 'text': 'American Football Conference'}],\n",
       "   'id': '56bea9923aeaaa14008c91ba',\n",
       "   'question': 'What does AFC stand for?'},\n",
       "  {'answers': [{'answer_start': 334, 'text': 'February 7, 2016'},\n",
       "    {'answer_start': 334, 'text': 'February 7'},\n",
       "    {'answer_start': 334, 'text': 'February 7, 2016'}],\n",
       "   'id': '56bea9923aeaaa14008c91bb',\n",
       "   'question': 'What day was the Super Bowl played on?'},\n",
       "  {'answers': [{'answer_start': 177, 'text': 'Denver Broncos'},\n",
       "    {'answer_start': 177, 'text': 'Denver Broncos'},\n",
       "    {'answer_start': 177, 'text': 'Denver Broncos'}],\n",
       "   'id': '56beace93aeaaa14008c91df',\n",
       "   'question': 'Who won Super Bowl 50?'},\n",
       "  {'answers': [{'answer_start': 355, 'text': \"Levi's Stadium\"},\n",
       "    {'answer_start': 355, 'text': \"Levi's Stadium\"},\n",
       "    {'answer_start': 355,\n",
       "     'text': \"Levi's Stadium in the San Francisco Bay Area at Santa Clara\"}],\n",
       "   'id': '56beace93aeaaa14008c91e0',\n",
       "   'question': 'What venue did Super Bowl 50 take place in?'},\n",
       "  {'answers': [{'answer_start': 403, 'text': 'Santa Clara'},\n",
       "    {'answer_start': 403, 'text': 'Santa Clara'},\n",
       "    {'answer_start': 403, 'text': 'Santa Clara'}],\n",
       "   'id': '56beace93aeaaa14008c91e1',\n",
       "   'question': 'What city did Super Bowl 50 take place in?'},\n",
       "  {'answers': [{'answer_start': 693, 'text': 'Super Bowl L'},\n",
       "    {'answer_start': 704, 'text': 'L'},\n",
       "    {'answer_start': 693, 'text': 'Super Bowl L'}],\n",
       "   'id': '56beace93aeaaa14008c91e2',\n",
       "   'question': 'If Roman numerals were used, what would Super Bowl 50 have been called?'},\n",
       "  {'answers': [{'answer_start': 116, 'text': '2015'},\n",
       "    {'answer_start': 112, 'text': 'the 2015 season'},\n",
       "    {'answer_start': 116, 'text': '2015'}],\n",
       "   'id': '56beace93aeaaa14008c91e3',\n",
       "   'question': 'Super Bowl 50 decided the NFL champion for what season?'},\n",
       "  {'answers': [{'answer_start': 116, 'text': '2015'},\n",
       "    {'answer_start': 346, 'text': '2016'},\n",
       "    {'answer_start': 116, 'text': '2015'}],\n",
       "   'id': '56bf10f43aeaaa14008c94fd',\n",
       "   'question': 'What year did the Denver Broncos secure a Super Bowl title for the third time?'},\n",
       "  {'answers': [{'answer_start': 403, 'text': 'Santa Clara'},\n",
       "    {'answer_start': 403, 'text': 'Santa Clara'},\n",
       "    {'answer_start': 403, 'text': 'Santa Clara'}],\n",
       "   'id': '56bf10f43aeaaa14008c94fe',\n",
       "   'question': 'What city did Super Bowl 50 take place in?'},\n",
       "  {'answers': [{'answer_start': 355, 'text': \"Levi's Stadium\"},\n",
       "    {'answer_start': 355, 'text': \"Levi's Stadium\"},\n",
       "    {'answer_start': 355, 'text': \"Levi's Stadium\"}],\n",
       "   'id': '56bf10f43aeaaa14008c94ff',\n",
       "   'question': 'What stadium did Super Bowl 50 take place in?'},\n",
       "  {'answers': [{'answer_start': 267, 'text': '24–10'},\n",
       "    {'answer_start': 267, 'text': '24–10'},\n",
       "    {'answer_start': 267, 'text': '24–10'}],\n",
       "   'id': '56bf10f43aeaaa14008c9500',\n",
       "   'question': 'What was the final score of Super Bowl 50? '},\n",
       "  {'answers': [{'answer_start': 334, 'text': 'February 7, 2016'},\n",
       "    {'answer_start': 334, 'text': 'February 7, 2016'},\n",
       "    {'answer_start': 334, 'text': 'February 7, 2016'}],\n",
       "   'id': '56bf10f43aeaaa14008c9501',\n",
       "   'question': 'What month, day and year did Super Bowl 50 take place? '},\n",
       "  {'answers': [{'answer_start': 116, 'text': '2015'},\n",
       "    {'answer_start': 346, 'text': '2016'},\n",
       "    {'answer_start': 346, 'text': '2016'}],\n",
       "   'id': '56d20362e7d4791d009025e8',\n",
       "   'question': 'What year was Super Bowl 50?'},\n",
       "  {'answers': [{'answer_start': 177, 'text': 'Denver Broncos'},\n",
       "    {'answer_start': 177, 'text': 'Denver Broncos'},\n",
       "    {'answer_start': 177, 'text': 'Denver Broncos'}],\n",
       "   'id': '56d20362e7d4791d009025e9',\n",
       "   'question': 'What team was the AFC champion?'},\n",
       "  {'answers': [{'answer_start': 249, 'text': 'Carolina Panthers'},\n",
       "    {'answer_start': 249, 'text': 'Carolina Panthers'},\n",
       "    {'answer_start': 249, 'text': 'Carolina Panthers'}],\n",
       "   'id': '56d20362e7d4791d009025ea',\n",
       "   'question': 'What team was the NFC champion?'},\n",
       "  {'answers': [{'answer_start': 177, 'text': 'Denver Broncos'},\n",
       "    {'answer_start': 177, 'text': 'Denver Broncos'},\n",
       "    {'answer_start': 177, 'text': 'Denver Broncos'}],\n",
       "   'id': '56d20362e7d4791d009025eb',\n",
       "   'question': 'Who won Super Bowl 50?'},\n",
       "  {'answers': [{'answer_start': 116, 'text': '2015'},\n",
       "    {'answer_start': 112, 'text': 'the 2015 season'},\n",
       "    {'answer_start': 116, 'text': '2015'}],\n",
       "   'id': '56d600e31c85041400946eae',\n",
       "   'question': 'Super Bowl 50 determined the NFL champion for what season?'},\n",
       "  {'answers': [{'answer_start': 177, 'text': 'Denver Broncos'},\n",
       "    {'answer_start': 177, 'text': 'Denver Broncos'},\n",
       "    {'answer_start': 177, 'text': 'Denver Broncos'}],\n",
       "   'id': '56d600e31c85041400946eb0',\n",
       "   'question': 'Which team won Super Bowl 50.'},\n",
       "  {'answers': [{'answer_start': 403, 'text': 'Santa Clara, California.'},\n",
       "    {'answer_start': 355, 'text': \"Levi's Stadium\"},\n",
       "    {'answer_start': 355, 'text': \"Levi's Stadium\"}],\n",
       "   'id': '56d600e31c85041400946eb1',\n",
       "   'question': 'Where was Super Bowl 50 held?'},\n",
       "  {'answers': [{'answer_start': 0, 'text': 'Super Bowl'},\n",
       "    {'answer_start': 0, 'text': 'Super Bowl'},\n",
       "    {'answer_start': 0, 'text': 'Super Bowl'}],\n",
       "   'id': '56d9895ddc89441400fdb50e',\n",
       "   'question': 'The name of the NFL championship game is?'},\n",
       "  {'answers': [{'answer_start': 177, 'text': 'Denver Broncos'},\n",
       "    {'answer_start': 177, 'text': 'Denver Broncos'},\n",
       "    {'answer_start': 177, 'text': 'Denver Broncos'}],\n",
       "   'id': '56d9895ddc89441400fdb510',\n",
       "   'question': 'What 2015 NFL team one the AFC playoff?'}]}"
      ]
     },
     "execution_count": 56,
     "metadata": {},
     "output_type": "execute_result"
    }
   ],
   "source": [
    "squad_data['data'][0]['paragraphs'][0]"
   ]
  },
  {
   "cell_type": "code",
   "execution_count": null,
   "metadata": {
    "collapsed": true
   },
   "outputs": [],
   "source": []
  },
  {
   "cell_type": "code",
   "execution_count": 10,
   "metadata": {
    "collapsed": false
   },
   "outputs": [
    {
     "data": {
      "text/plain": [
       "'oxygen gas ( o 2 ) can be toxic at elevated partial pressures , leading to convulsions and other health problems . [ j ] oxygen toxicity usually begins to occur at partial pressures more than 50 kilopascals ( kpa ) , equal to about 50 % oxygen composition at standard pressure or 2.5 times the normal sea-level o 2 partial pressure of about 21 kpa . this is not a problem except for patients on mechanical ventilators , since gas supplied through oxygen masks in medical applications is typically composed of only 30 % –50 % o 2 by volume ( about 30 kpa at standard pressure ) . ( although this figure also is subject to wide variation , depending on type of mask ) .'"
      ]
     },
     "execution_count": 10,
     "metadata": {},
     "output_type": "execute_result"
    }
   ],
   "source": [
    "' '.join(data['Oxygen']['context'])"
   ]
  },
  {
   "cell_type": "code",
   "execution_count": null,
   "metadata": {
    "collapsed": true
   },
   "outputs": [],
   "source": []
  }
 ],
 "metadata": {
  "anaconda-cloud": {},
  "kernelspec": {
   "display_name": "Python [conda env:py35]",
   "language": "python",
   "name": "conda-env-py35-py"
  },
  "language_info": {
   "codemirror_mode": {
    "name": "ipython",
    "version": 3
   },
   "file_extension": ".py",
   "mimetype": "text/x-python",
   "name": "python",
   "nbconvert_exporter": "python",
   "pygments_lexer": "ipython3",
   "version": "3.5.2"
  }
 },
 "nbformat": 4,
 "nbformat_minor": 1
}
